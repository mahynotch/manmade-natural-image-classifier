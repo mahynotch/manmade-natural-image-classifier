{
 "cells": [
  {
   "cell_type": "code",
   "execution_count": 107,
   "metadata": {},
   "outputs": [],
   "source": [
    "import sklearn\n",
    "import numpy as np\n",
    "import PIL\n",
    "import cv2\n",
    "import os\n",
    "import matplotlib.pyplot as plt\n",
    "import pandas as pd\n",
    "import time"
   ]
  },
  {
   "cell_type": "markdown",
   "metadata": {},
   "source": [
    "# Function define"
   ]
  },
  {
   "cell_type": "code",
   "execution_count": 108,
   "metadata": {},
   "outputs": [],
   "source": [
    "def img_comp(graphA, graphB):\n",
    "    return np.sum(np.sqrt(np.sum(np.power(graphA - graphB, 2), axis=1)))\n",
    "\n",
    "def get_img_folder(path):\n",
    "    img_list = []\n",
    "    file_list = []\n",
    "    for filename in os.listdir(path):\n",
    "        if not filename.endswith('.jpg') and not filename.endswith('.jpeg') and not filename.endswith('.png'):\n",
    "            continue\n",
    "        image = cv2.resize(cv2.imread(os.path.join(path, filename), 0), (256, 256), interpolation=cv2.INTER_AREA)\n",
    "        # area = image.shape[0] * image.shape[1]\n",
    "        img = cv2.calcHist([image], [0], None, [256], [0.0, 255.0]) / 255\n",
    "        # img = cv2.calcHist([image], [0, 1, 2], None, [256, 256, 256], [0.0, 255.0, 0.0, 255.0, 0.0, 255.0]) / area\n",
    "        img_list.append(img.flatten())\n",
    "        file_list.append(filename)\n",
    "    return img_list, file_list"
   ]
  },
  {
   "cell_type": "markdown",
   "metadata": {},
   "source": [
    "# Trainset import"
   ]
  },
  {
   "cell_type": "code",
   "execution_count": 109,
   "metadata": {},
   "outputs": [],
   "source": [
    "man_folder_path = './train/manmade_training'\n",
    "man_img_list, _ = get_img_folder(man_folder_path)\n",
    "nat_folder_path = './train/natural_training'\n",
    "nat_img_list, _ = get_img_folder(nat_folder_path)\n",
    "trainset = pd.DataFrame({\"image\":man_img_list+nat_img_list, \"type\":[0]*len(man_img_list)+[1]*len(nat_img_list)})"
   ]
  },
  {
   "cell_type": "markdown",
   "metadata": {},
   "source": [
    "# Testset import"
   ]
  },
  {
   "cell_type": "code",
   "execution_count": 110,
   "metadata": {},
   "outputs": [],
   "source": [
    "man_folder_path = './test/manmade_test'\n",
    "man_img_list, man_file = get_img_folder(man_folder_path)\n",
    "nat_folder_path = './test/natural_test'\n",
    "nat_img_list, nat_file = get_img_folder(nat_folder_path)\n",
    "testset = pd.DataFrame({\"image\":man_img_list+nat_img_list, \"type\":[0]*len(man_img_list)+[1]*len(nat_img_list), \"filename\":man_file+nat_file, \"prediction\":0, \"confidence\":0})"
   ]
  },
  {
   "cell_type": "code",
   "execution_count": 111,
   "metadata": {},
   "outputs": [],
   "source": [
    "del man_folder_path, man_file, nat_file, nat_folder_path, man_img_list, nat_img_list, _"
   ]
  },
  {
   "cell_type": "code",
   "execution_count": 114,
   "metadata": {},
   "outputs": [],
   "source": [
    "from sklearn.neighbors import KNeighborsClassifier\n",
    "clf = KNeighborsClassifier(n_neighbors=11).fit(list(trainset[\"image\"]), list(trainset[\"type\"]))\n",
    "predictions_labels = clf.predict(testset[\"image\"].values.tolist())"
   ]
  },
  {
   "cell_type": "code",
   "execution_count": null,
   "metadata": {},
   "outputs": [],
   "source": [
    "# predictions = [0] * len(testset)\n",
    "# confidence = [0] * len(testset)\n",
    "# for i in testset.index:\n",
    "#     image = testset[\"image\"][i]\n",
    "#     distances = [0] * len(trainset)\n",
    "#     for j in trainset.index:\n",
    "#         distances[j] = img_comp(image, trainset[\"image\"][j])\n",
    "#     trainset[\"distance\"] = distances\n",
    "#     trainset = trainset.sort_values(by=\"distance\")\n",
    "#     res = trainset[:10]\n",
    "#     man_cnt = res.loc[res[\"type\"]==0].shape[0]\n",
    "#     nat_cnt = 10 - man_cnt\n",
    "#     predictions[i] = 0 if man_cnt > nat_cnt else 1\n",
    "#     confidence[i] = man_cnt / 10 if man_cnt > nat_cnt else nat_cnt / 10\n",
    "# testset[\"prediction\"] = predictions\n",
    "# testset[\"confidence\"] = confidence\n",
    "    "
   ]
  },
  {
   "cell_type": "code",
   "execution_count": 121,
   "metadata": {},
   "outputs": [],
   "source": [
    "# predictions_labels\n",
    "testset[\"prediction\"] = predictions_labels\n",
    "testset.loc[testset[\"type\"]==testset[\"prediction\"]].shape[0] / testset.shape[0]"
   ]
  }
 ],
 "metadata": {
  "kernelspec": {
   "display_name": "image_AI",
   "language": "python",
   "name": "python3"
  },
  "language_info": {
   "codemirror_mode": {
    "name": "ipython",
    "version": 3
   },
   "file_extension": ".py",
   "mimetype": "text/x-python",
   "name": "python",
   "nbconvert_exporter": "python",
   "pygments_lexer": "ipython3",
   "version": "3.10.13"
  }
 },
 "nbformat": 4,
 "nbformat_minor": 2
}
